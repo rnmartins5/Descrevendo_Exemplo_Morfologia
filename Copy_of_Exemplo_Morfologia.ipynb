{
  "nbformat": 4,
  "nbformat_minor": 0,
  "metadata": {
    "colab": {
      "provenance": [],
      "include_colab_link": true
    },
    "kernelspec": {
      "name": "python3",
      "display_name": "Python 3"
    },
    "language_info": {
      "name": "python"
    }
  },
  "cells": [
    {
      "cell_type": "markdown",
      "metadata": {
        "id": "view-in-github",
        "colab_type": "text"
      },
      "source": [
        "<a href=\"https://colab.research.google.com/github/rnmartins5/Descrevendo_Exemplo_Morfologia/blob/main/Copy_of_Exemplo_Morfologia.ipynb\" target=\"_parent\"><img src=\"https://colab.research.google.com/assets/colab-badge.svg\" alt=\"Open In Colab\"/></a>"
      ]
    },
    {
      "cell_type": "markdown",
      "source": [
        "Universidade do Vale do Itajaí<br>\n",
        "Escola do Mar, Ciência e Tecnologia<br>\n",
        "Professor Felipe Viel\n",
        "\n",
        "# Exemplo Morfologia\n",
        "\n",
        "### Tutoriais da OpenCV\n",
        "\n",
        "- https://docs.opencv.org/master/d9/df8/tutorial_root.html\n",
        "- https://www.geeksforgeeks.org/opencv-python-tutorial/"
      ],
      "metadata": {
        "id": "hs7F3RjrUjCH"
      }
    },
    {
      "cell_type": "code",
      "execution_count": null,
      "metadata": {
        "id": "9ieiSWN_Uh5b"
      },
      "outputs": [],
      "source": [
        "#Importando a biblioteca cv2\n",
        "import cv2\n",
        "#Importando a biblioteca numpy e dando o nome dela como np\n",
        "import numpy as np\n"
      ]
    },
    {
      "cell_type": "code",
      "source": [
        "#A variavel img está recebendo uma imagem que é carregada pela função cv2.imread do arquivo j.png com a intensidade de cinza zero\n",
        "img = cv2.imread('j.png',0)\n",
        "#Aqui acontece a mesma coisa so que com a variavel img_opening e o arquivo j_ruido.png\n",
        "img_opening = cv2.imread('j_ruido.png',0)\n",
        "#Mesma coisa, mas com o arquivo j_furos.png e a variavel img_closing\n",
        "img_closing = cv2.imread('j_furos.png',0)\n",
        "#As variaveis estão recebendo as dimensões da imagem\n",
        "altura, largura = img.shape\n",
        "#A variavel Kernel está recebendo uma matriz 5x5 de 1\n",
        "kernel = np.ones((5,5),np.uint8)\n",
        "#Imprime na tela a variavel Kernel\n",
        "print(kernel)"
      ],
      "metadata": {
        "id": "8whvZbKhU03S"
      },
      "execution_count": null,
      "outputs": []
    },
    {
      "cell_type": "code",
      "source": [
        "#Aplicando a erosão na imagem 'img' com elemento estruturante 'kernel' e fazendo a repetição da erosão 2 vezes com o 'iterations=2'\n",
        "erosion = cv2.erode(img,kernel,iterations = 2)\n",
        "#Fazendo o oposto da erosão, está dilatando a imagem, repetindo duas vezes\n",
        "dilation = cv2.dilate(img,kernel,iterations = 2)"
      ],
      "metadata": {
        "id": "RnKcRcjsU8VP"
      },
      "execution_count": null,
      "outputs": []
    },
    {
      "cell_type": "code",
      "source": [
        "#Da o contorno dos objeto na imagem\n",
        "gradient = cv2.morphologyEx(img, cv2.MORPH_GRADIENT, kernel)\n",
        "#Aplicando erosão seguida da dilatação, remover pequenas bolhas da imagem, ruidos\n",
        "opening = cv2.morphologyEx(img_opening, cv2.MORPH_OPEN, kernel)\n",
        "#Aplicando dilatação seguida de uma erosão, fechando buracos dentro do objeto, ou conectar componentes\n",
        "closing = cv2.morphologyEx(img_closing, cv2.MORPH_CLOSE, kernel)"
      ],
      "metadata": {
        "id": "WvTtlQWJU-tz"
      },
      "execution_count": null,
      "outputs": []
    },
    {
      "cell_type": "code",
      "source": [
        "#Os dois exemplos é para exibir os dados da imagem na tela\n",
        "'''\n",
        "#Caso usa com Python no próprio computador\n",
        "cv2.imshow('in', img)\n",
        "cv2.imshow('erosion_out', erosion)\n",
        "cv2.imshow('dilation_out', dilation)\n",
        "cv2.imshow('opening_out', opening)\n",
        "cv2.imshow('closing_out', closing)\n",
        "cv2.imshow('gradient_out', gradient)\n",
        "'''\n",
        "#Caso use o Google Colab\n",
        "cv2_imshow(img)\n",
        "cv2_imshow(erosion)\n",
        "cv2_imshow(dilation)\n",
        "cv2_imshow(opening)\n",
        "cv2_imshow(closing)\n",
        "cv2_imshow(gradient)"
      ],
      "metadata": {
        "id": "iMJ7o6EgVA_r"
      },
      "execution_count": null,
      "outputs": []
    }
  ]
}
